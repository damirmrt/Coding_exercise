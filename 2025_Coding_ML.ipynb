{
 "cells": [
  {
   "cell_type": "markdown",
   "id": "23c88fd4",
   "metadata": {},
   "source": [
    "# Python libraries which could be used for solution of the test task"
   ]
  },
  {
   "cell_type": "code",
   "execution_count": 2,
   "id": "19012045",
   "metadata": {},
   "outputs": [],
   "source": [
    "import numpy as np"
   ]
  },
  {
   "cell_type": "markdown",
   "id": "a170fc5e",
   "metadata": {},
   "source": [
    "# Baseline implementation of the cross-validation split of a dataset\n",
    "`DatasetCV_Baseline` class is a baseline implementation of the cross-validation split (K-Fold type) of the dataset into the train and test subsets with 2 transformations:\n",
    "* `train_raw` and `test_raw` methods return the train and test splits of the <b>original untransformed</b> data for each cross-validation fold\n",
    "* `train_standardized` and `test_standardized` methods return the train and test splits of the <b>standardized</b> dataset for each cross-validation fold\n",
    "\n",
    "Standardization of each cross-validation split of the original untransformed dataset is performed as follows:"
   ]
  },
  {
   "cell_type": "markdown",
   "id": "c7307c82",
   "metadata": {},
   "source": [
    "$$z_i^{i_{fold}}=\\frac{x_i^{i_{fold}}-\\mu^{i_{fold}}}{\\sigma^{i_{fold}}}\\qquad\\qquad\\qquad\\mu^{i_{fold}}=\\frac{1}{N}\\sum_{j=1}^Nx_j^{i_{fold}}\\qquad\\qquad\\qquad\\sigma^{i_{fold}}=\\sqrt{\\frac{1}{N}\\sum_{j=1}^N(x_j^{i_{fold}})^2-\\left(\\frac{1}{N}\\sum_{j=1}^Nx_j^{i_{fold}}\\right)^2}$$"
   ]
  },
  {
   "cell_type": "code",
   "execution_count": 3,
   "id": "dcb13cbf",
   "metadata": {},
   "outputs": [],
   "source": [
    "class DatasetCV_Baseline:\n",
    "    def __init__(self, n_folds: int, n_samples: int):\n",
    "        self._dataset: np.ndarray = np.random.rand(n_folds, n_samples)\n",
    "       \n",
    "    @property\n",
    "    def dataset(self) -> np.ndarray:\n",
    "        return self._dataset\n",
    "\n",
    "    @property\n",
    "    def n_folds(self) -> int:\n",
    "        return self._dataset.shape[0]\n",
    "\n",
    "    def train_raw(self, i_fold: int) -> np.ndarray:\n",
    "        dataset = []\n",
    "        for i in range(self.n_folds):\n",
    "            if i != i_fold:\n",
    "               dataset.append(self._dataset[i])\n",
    "        return np.concatenate(dataset)\n",
    "\n",
    "    def test_raw(self, i_fold: int) -> np.ndarray:\n",
    "        return self._dataset[i_fold]\n",
    "\n",
    "    def train_standardized(self, i_fold: int) -> np.ndarray:\n",
    "        return (self.train_raw(i_fold)-self._train_mean(i_fold))/self._train_std(i_fold)\n",
    "\n",
    "    def test_standardized(self, i_fold: int) -> np.ndarray:\n",
    "        return (self.test_raw(i_fold)-self._test_mean(i_fold))/self._test_std(i_fold)\n",
    "\n",
    "    def _train_mean(self, i_fold: int) -> float:\n",
    "        return np.mean(self.train_raw(i_fold))\n",
    "\n",
    "    def _test_mean(self, i_fold: int) -> float:\n",
    "        return np.mean(self.test_raw(i_fold))\n",
    "\n",
    "    def _train_std(self, i_fold: int) -> float:\n",
    "        return np.std(self.train_raw(i_fold))\n",
    "\n",
    "    def _test_std(self, i_fold: int) -> float:\n",
    "        return np.std(self.test_raw(i_fold))\n"
   ]
  },
  {
   "cell_type": "markdown",
   "id": "5b55b321",
   "metadata": {},
   "source": [
    "<b>Task description:</b>\n",
    "1. What is cross-validation? When cross-validation helps? What types of cross-validation do you know?\n",
    "2. What is standardization? Why standardization is important for training of machine learning models? What other transformations of the original dataset do you know?\n",
    "3. Evaluate the asymptotic complexity of `DatasetCV_Baseline._train_mean`, `DatasetCV_Baseline._test_mean`, `DatasetCV_Baseline._train_std`, and `DatasetCV_Baseline._test_std` methods"
   ]
  },
  {
   "cell_type": "markdown",
   "id": "f355c162",
   "metadata": {},
   "source": [
    "# Optimized version of the cross-validation split of a dataset\n",
    "Below is the prototype implementation of `DatasetCV_Optimized` class identical to `DatasetCV_Baseline` which needs to be optimized:"
   ]
  },
  {
   "cell_type": "code",
   "execution_count": 12,
   "id": "59a9ccf7",
   "metadata": {},
   "outputs": [],
   "source": [
    "class DatasetCV_Optimized:\n",
    "    def __init__(self, dataset: np.ndarray):\n",
    "        self._dataset: np.ndarray = dataset\n",
    "        self.dataset_mean_test = []\n",
    "        self.dataset_mean_test = [np.mean(self.dataset[i]) for i in range(self.n_folds)]\n",
    "        self.dataset_std_test = []\n",
    "        self.dataset_std_test = [np.std(self.dataset[i]) for i in range(self.n_folds)]\n",
    "\n",
    "    @property\n",
    "    def dataset(self) -> np.ndarray:\n",
    "        return self._dataset\n",
    "\n",
    "    @property\n",
    "    def n_folds(self) -> int:\n",
    "        return self._dataset.shape[0]\n",
    "\n",
    "    def train_raw(self, i_fold: int) -> np.ndarray:\n",
    "        dataset = []\n",
    "        dataset = [self._dataset[i] for i in range(self.n_folds) if i != i_fold]\n",
    "\n",
    "        return np.concatenate(dataset)\n",
    "    \n",
    "    def test_raw(self, i_fold: int) -> np.ndarray:\n",
    "        return self._dataset[i_fold]\n",
    "\n",
    "    def train_standardized(self, i_fold: int) -> np.ndarray:\n",
    "        return (self.train_raw(i_fold)-self._train_mean(i_fold))/self._train_std(i_fold)\n",
    "\n",
    "    def test_standardized(self, i_fold: int) -> np.ndarray:\n",
    "        return (self.test_raw(i_fold)-self.dataset_mean_test[i_fold])/self.dataset_std_test[i_fold]\n",
    "\n",
    "    def _train_mean(self, i_fold: int) -> float:\n",
    "        return np.mean(self.train_raw(i_fold))\n",
    "\n",
    "    def _test_mean(self, i_fold: int) -> float:\n",
    "        return np.mean(self.test_raw(i_fold))\n",
    "    \n",
    "    def _train_std(self, i_fold: int) -> float:\n",
    "        return np.std(self.train_raw(i_fold))\n",
    "\n",
    "    def _test_std(self, i_fold: int) -> float:\n",
    "        return np.std(self.test_raw(i_fold))"
   ]
  },
  {
   "cell_type": "markdown",
   "id": "23ecebd8",
   "metadata": {},
   "source": [
    "<b>Task description:</b>\n",
    "1. Identify methods of `DatasetCV_Baseline` class having the performance issues due to the suboptimal implementation\n",
    "2. Implement the identified methods of `DatasetCV_Baseline` class in a more efficient way\n",
    "3. Implement the algorithm for `DatasetCV_Optimized` to reduce the asymptotic complexity of `DatasetCV_Optimized._train_mean`, `DatasetCV_Optimized._test_mean`, `DatasetCV_Optimized._train_std`, and `DatasetCV_Optimized._test_std` methods\n",
    "4. Ensure that the proposed implementation is effective during both `DatasetCV_Optimized` initialization and call of `DatasetCV_Optimized.train_standardized` and `DatasetCV_Optimized.test_standardized` methods"
   ]
  },
  {
   "cell_type": "markdown",
   "id": "5746e8fd",
   "metadata": {},
   "source": [
    "# Check if the optimized and baseline implementations are the same"
   ]
  },
  {
   "cell_type": "code",
   "execution_count": 13,
   "id": "df2cf136",
   "metadata": {},
   "outputs": [
    {
     "name": "stdout",
     "output_type": "stream",
     "text": [
      "Correct implementation\n"
     ]
    }
   ],
   "source": [
    "dataset_baseline = DatasetCV_Baseline(n_folds=10, n_samples=2)\n",
    "dataset_optimized = DatasetCV_Optimized(dataset=dataset_baseline.dataset)\n",
    "\n",
    "for i_fold in range(dataset_baseline.n_folds):\n",
    "    assert np.allclose(dataset_baseline.train_raw(i_fold), dataset_optimized.train_raw(i_fold)), 'Incorrect implementation of \"train_raw\" method'\n",
    "    assert np.allclose(dataset_baseline.test_raw(i_fold), dataset_optimized.test_raw(i_fold)), 'Incorrect implementation of \"test_raw\" method'\n",
    "    assert np.allclose(dataset_baseline.train_standardized(i_fold), dataset_optimized.train_standardized(i_fold)), 'Incorrect implementation of \"train_standardized\" method'\n",
    "    assert np.allclose(dataset_baseline.test_standardized(i_fold), dataset_optimized.test_standardized(i_fold)), 'Incorrect implementation of \"test_standardized\" method'\n",
    "\n",
    "print('Correct implementation')"
   ]
  },
  {
   "cell_type": "code",
   "execution_count": null,
   "id": "4c6a3f1d",
   "metadata": {},
   "outputs": [],
   "source": []
  }
 ],
 "metadata": {
  "kernelspec": {
   "display_name": "Python 3",
   "language": "python",
   "name": "python3"
  },
  "language_info": {
   "codemirror_mode": {
    "name": "ipython",
    "version": 3
   },
   "file_extension": ".py",
   "mimetype": "text/x-python",
   "name": "python",
   "nbconvert_exporter": "python",
   "pygments_lexer": "ipython3",
   "version": "3.11.1"
  }
 },
 "nbformat": 4,
 "nbformat_minor": 5
}
